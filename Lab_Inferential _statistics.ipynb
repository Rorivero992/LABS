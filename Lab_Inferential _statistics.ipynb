{
 "cells": [
  {
   "cell_type": "code",
   "execution_count": 2,
   "metadata": {},
   "outputs": [
    {
     "name": "stdout",
     "output_type": "stream",
     "text": [
      "Z-test Statistic: 4.761904761904759\n"
     ]
    }
   ],
   "source": [
    "import statistics\n",
    "import math\n",
    "\n",
    "population_mean = 120\n",
    "sample_mean = 130.1\n",
    "sample_std_dev = 21.21\n",
    "sample_size = 100\n",
    "\n",
    "z_test_statistic = (sample_mean - population_mean) / (sample_std_dev / math.sqrt(sample_size))\n",
    "\n",
    "print(\"Z-test Statistic:\", z_test_statistic)"
   ]
  },
  {
   "cell_type": "markdown",
   "metadata": {},
   "source": [
    "Dado que 4.761904761904759 es mucho mayor que 1.96 (para α = 0.05), en este caso se rechazaría la hipótesis nula, lo que sugiere que la media de la muestra es significativamente diferente de la media de la población asumida."
   ]
  },
  {
   "cell_type": "code",
   "execution_count": null,
   "metadata": {},
   "outputs": [],
   "source": []
  }
 ],
 "metadata": {
  "kernelspec": {
   "display_name": "Python 3",
   "language": "python",
   "name": "python3"
  },
  "language_info": {
   "codemirror_mode": {
    "name": "ipython",
    "version": 3
   },
   "file_extension": ".py",
   "mimetype": "text/x-python",
   "name": "python",
   "nbconvert_exporter": "python",
   "pygments_lexer": "ipython3",
   "version": "3.10.11"
  },
  "orig_nbformat": 4
 },
 "nbformat": 4,
 "nbformat_minor": 2
}
