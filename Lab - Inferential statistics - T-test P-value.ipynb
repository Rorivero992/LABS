{
 "cells": [
  {
   "cell_type": "markdown",
   "metadata": {},
   "source": [
    "Instructions\n",
    "We will have another simple example on two sample t test (pooled- when the variances are equal). But this time this is a one sided t-test\n",
    "In a packing plant, a machine packs cartons with jars. It is supposed that a new machine will pack faster on the average than the machine currently used. To test that hypothesis, the times it takes each machine to pack ten cartons are recorded. The results, in seconds, are shown in the tables in the file files_for_lab/machine.txt. Assume that there is sufficient evidence to conduct the t test, does the data provide sufficient evidence to show if one machine is better than the other\n",
    "\n",
    "\n",
    "﻿New machine\t    Old machine\n",
    "42.1\t        42.7\n",
    "41\t            43.6\n",
    "41.3\t        43.8\n",
    "41.8\t        43.3\n",
    "42.4\t        42.5\n",
    "42.8\t        43.5\n",
    "43.2\t        43.1\n",
    "42.3\t        41.7\n",
    "41.8\t        44\n",
    "42.7\t        44.1"
   ]
  },
  {
   "cell_type": "code",
   "execution_count": 7,
   "metadata": {},
   "outputs": [],
   "source": [
    "import numpy as np\n",
    "from scipy.stats import ttest_1samp\n",
    "from scipy.stats import norm\n",
    "import math\n",
    "from scipy.stats import t"
   ]
  },
  {
   "cell_type": "code",
   "execution_count": 6,
   "metadata": {},
   "outputs": [
    {
     "name": "stdout",
     "output_type": "stream",
     "text": [
      "Media de la nueva máquina: 42.14\n",
      "Media de la máquina antigua: 43.230000000000004\n",
      "Desviación estándar de la nueva máquina: 0.6483826030978941\n",
      "Desviación estándar de la máquina antigua: 0.7114070564732956\n"
     ]
    }
   ],
   "source": [
    "New_machine = [42.1, 41, 41.3, 41.8, 42.4, 42.8, 43.2, 42.3, 41.8, 42.7]\n",
    "Old_machine = [42.7, 43.6, 43.8, 43.3,  42.5,43.5, 43.1, 41.7, 44, 44.1]\n",
    "\n",
    "# Calcular la media\n",
    "mean_new_machine = np.mean(New_machine)\n",
    "mean_old_machine = np.mean(Old_machine)\n",
    "\n",
    "# Calcular la desviación estándar\n",
    "std_dev_new_machine = np.std(New_machine)\n",
    "std_dev_old_machine = np.std(Old_machine)\n",
    "\n",
    "# Imprimir los resultados\n",
    "print(\"Media de la nueva máquina:\", mean_new_machine)\n",
    "print(\"Media de la máquina antigua:\", mean_old_machine)\n",
    "print(\"Desviación estándar de la nueva máquina:\", std_dev_new_machine)\n",
    "print(\"Desviación estándar de la máquina antigua:\", std_dev_old_machine)"
   ]
  },
  {
   "cell_type": "markdown",
   "metadata": {},
   "source": [
    "hipotesis nula maquina nueva suerior "
   ]
  },
  {
   "cell_type": "code",
   "execution_count": 10,
   "metadata": {},
   "outputs": [
    {
     "name": "stdout",
     "output_type": "stream",
     "text": [
      "Pooled sample is:  0.6806247130394253\n",
      "T Statistic is:  -3.5809955894645813\n"
     ]
    }
   ],
   "source": [
    "sample1=10\n",
    "mean_new_machine\n",
    "std_dev_new_machine\n",
    "\n",
    "sample2=10\n",
    "mean_old_machine\n",
    "std_dev_old_machine\n",
    "\n",
    "pooled_sample_std = math.sqrt(((sample1-1)*std_dev_new_machine**2 + (sample2-1)*std_dev_old_machine**2)/(sample1+sample2-2))\n",
    "print(\"Pooled sample is: \", pooled_sample_std)\n",
    "statistic = (mean_new_machine-mean_old_machine)/(pooled_sample_std*math.sqrt((1/sample1)+(1/sample2)))\n",
    "print(\"T Statistic is: \", statistic)"
   ]
  },
  {
   "cell_type": "code",
   "execution_count": 13,
   "metadata": {},
   "outputs": [
    {
     "name": "stdout",
     "output_type": "stream",
     "text": [
      "P value is:  0.9989322065983063\n",
      "Critical Value of t is:  -2.10092204024096\n"
     ]
    }
   ],
   "source": [
    "print(\"P value is: \", 1- t.cdf(statistic,sample1+sample2-2))\n",
    "print(\"Critical Value of t is: \", t.ppf(0.025, sample1+sample2-2)) "
   ]
  },
  {
   "cell_type": "code",
   "execution_count": null,
   "metadata": {},
   "outputs": [],
   "source": [
    "Rechazamos la hipotesis nula donde la nueva maquina va a ser mejor que la vieja maquina. no se reunen argumentos necesarios para justificar que la maquina nueva "
   ]
  },
  {
   "cell_type": "code",
   "execution_count": 1,
   "metadata": {},
   "outputs": [
    {
     "ename": "SyntaxError",
     "evalue": "invalid syntax. Perhaps you forgot a comma? (460141557.py, line 4)",
     "output_type": "error",
     "traceback": [
      "\u001b[1;36m  Cell \u001b[1;32mIn[1], line 4\u001b[1;36m\u001b[0m\n\u001b[1;33m    muestra1 = [datos de la muestra 1]  # Reemplaza con los datos reales\u001b[0m\n\u001b[1;37m                ^\u001b[0m\n\u001b[1;31mSyntaxError\u001b[0m\u001b[1;31m:\u001b[0m invalid syntax. Perhaps you forgot a comma?\n"
     ]
    }
   ],
   "source": [
    "import scipy.stats as stats\n",
    "\n",
    "# Datos de las muestras\n",
    "muestra1 = [datos de la muestra 1]  # Reemplaza con los datos reales\n",
    "muestra2 = [datos de la muestra 2]  # Reemplaza con los datos reales\n",
    "\n",
    "# Realiza la prueba t de dos muestras con varianzas desiguales\n",
    "t_stat, p_value = stats.ttest_ind(muestra1, muestra2, equal_var=False)\n",
    "\n",
    "# Nivel de significancia\n",
    "alpha = 0.05\n",
    "\n",
    "# Grados de libertad\n",
    "df = len(muestra1) + len(muestra2) - 2\n",
    "\n",
    "# Calcula el valor crítico de t\n",
    "t_critical = stats.t.ppf(1 - alpha / 2, df)\n",
    "\n",
    "# Imprime el resultado\n",
    "print(\"Valor calculado de t:\", t_stat)\n",
    "print(\"Valor crítico de t:\", t_critical)\n",
    "print(\"Valor p:\", p_value)\n",
    "\n",
    "# Compara el valor calculado de t con el valor crítico\n",
    "if abs(t_stat) > t_critical:\n",
    "    print(\"Se rechaza la hipótesis nula. Hay evidencia de que las medias difieren.\")\n",
    "else:\n",
    "    print(\"No hay suficiente evidencia para concluir que las medias difieren.\")\n"
   ]
  },
  {
   "cell_type": "code",
   "execution_count": null,
   "metadata": {},
   "outputs": [],
   "source": []
  }
 ],
 "metadata": {
  "kernelspec": {
   "display_name": "Python 3",
   "language": "python",
   "name": "python3"
  },
  "language_info": {
   "codemirror_mode": {
    "name": "ipython",
    "version": 3
   },
   "file_extension": ".py",
   "mimetype": "text/x-python",
   "name": "python",
   "nbconvert_exporter": "python",
   "pygments_lexer": "ipython3",
   "version": "3.10.11"
  },
  "orig_nbformat": 4
 },
 "nbformat": 4,
 "nbformat_minor": 2
}
