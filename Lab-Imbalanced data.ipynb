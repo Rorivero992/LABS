{
 "cells": [
  {
   "cell_type": "code",
   "execution_count": 2,
   "metadata": {},
   "outputs": [],
   "source": [
    "import pandas as pd\n",
    "from sklearn.model_selection import train_test_split\n",
    "from sklearn.preprocessing import StandardScaler\n",
    "from sklearn.linear_model import LogisticRegression\n",
    "from sklearn.metrics import accuracy_score\n",
    "from imblearn.over_sampling import SMOTE\n",
    "from imblearn.under_sampling import TomekLinks"
   ]
  },
  {
   "cell_type": "code",
   "execution_count": 4,
   "metadata": {},
   "outputs": [],
   "source": [
    "data = pd.read_csv('C:\\\\Users\\\\roriv\\\\DATA IMBALANCE\\\\customer_churn.csv')\n"
   ]
  },
  {
   "cell_type": "code",
   "execution_count": 5,
   "metadata": {},
   "outputs": [
    {
     "name": "stdout",
     "output_type": "stream",
     "text": [
      "Accuracy of the logistic regression model: 0.8076650106458482\n",
      "Accuracy of the logistic regression model with SMOTE: 0.7526570048309179\n",
      "Accuracy of the logistic regression model with TomekLinks: 0.8082191780821918\n"
     ]
    }
   ],
   "source": [
    "y = data['Churn']\n",
    "\n",
    "# Extract the independent variables and scale them\n",
    "X = data[['tenure', 'SeniorCitizen', 'MonthlyCharges']]\n",
    "scaler = StandardScaler()\n",
    "X_scaled = scaler.fit_transform(X)\n",
    "\n",
    "# Build the logistic regression model\n",
    "X_train, X_test, y_train, y_test = train_test_split(X_scaled, y, test_size=0.2, random_state=42)\n",
    "model = LogisticRegression()\n",
    "model.fit(X_train, y_train)\n",
    "\n",
    "# Evaluate the model\n",
    "y_pred = model.predict(X_test)\n",
    "accuracy = accuracy_score(y_test, y_pred)\n",
    "print(\"Accuracy of the logistic regression model:\", accuracy)\n",
    "\n",
    "# SMOTE (Synthetic Minority Oversampling Technique)\n",
    "smote = SMOTE(random_state=42)\n",
    "X_resampled, y_resampled = smote.fit_resample(X_scaled, y)\n",
    "\n",
    "X_train_smote, X_test_smote, y_train_smote, y_test_smote = train_test_split(X_resampled, y_resampled, test_size=0.2, random_state=42)\n",
    "model_smote = LogisticRegression()\n",
    "model_smote.fit(X_train_smote, y_train_smote)\n",
    "y_pred_smote = model_smote.predict(X_test_smote)\n",
    "accuracy_smote = accuracy_score(y_test_smote, y_pred_smote)\n",
    "print(\"Accuracy of the logistic regression model with SMOTE:\", accuracy_smote)\n",
    "\n",
    "# TomekLinks\n",
    "tomek = TomekLinks()\n",
    "X_resampled_tomek, y_resampled_tomek = tomek.fit_resample(X_scaled, y)\n",
    "\n",
    "X_train_tomek, X_test_tomek, y_train_tomek, y_test_tomek = train_test_split(X_resampled_tomek, y_resampled_tomek, test_size=0.2, random_state=42)\n",
    "model_tomek = LogisticRegression()\n",
    "model_tomek.fit(X_train_tomek, y_train_tomek)\n",
    "y_pred_tomek = model_tomek.predict(X_test_tomek)\n",
    "accuracy_tomek = accuracy_score(y_test_tomek, y_pred_tomek)\n",
    "print(\"Accuracy of the logistic regression model with TomekLinks:\", accuracy_tomek)"
   ]
  },
  {
   "cell_type": "code",
   "execution_count": null,
   "metadata": {},
   "outputs": [],
   "source": []
  }
 ],
 "metadata": {
  "kernelspec": {
   "display_name": "Python 3",
   "language": "python",
   "name": "python3"
  },
  "language_info": {
   "codemirror_mode": {
    "name": "ipython",
    "version": 3
   },
   "file_extension": ".py",
   "mimetype": "text/x-python",
   "name": "python",
   "nbconvert_exporter": "python",
   "pygments_lexer": "ipython3",
   "version": "3.10.11"
  },
  "orig_nbformat": 4
 },
 "nbformat": 4,
 "nbformat_minor": 2
}
