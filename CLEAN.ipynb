{
 "cells": [
  {
   "cell_type": "code",
   "execution_count": 1,
   "metadata": {},
   "outputs": [],
   "source": [
    "from dotenv import load_dotenv\n",
    "import os\n",
    "import warnings\n",
    "warnings.filterwarnings(\"ignore\")\n",
    "\n",
    "import spotipy \n",
    "import pandas as pd \n",
    "from spotipy.oauth2 import SpotifyClientCredentials\n",
    "\n",
    "from sklearn.cluster import KMeans \n",
    "from sklearn.preprocessing import StandardScaler\n",
    "from sklearn.metrics import pairwise_distances_argmin_min\n",
    "import numpy as np \n"
   ]
  },
  {
   "cell_type": "code",
   "execution_count": 2,
   "metadata": {},
   "outputs": [],
   "source": [
    "user= os.getenv(\"CLIENT\")\n",
    "password= os.getenv(\"SECRET\")\n",
    "sp= spotipy.Spotify(auth_manager=SpotifyClientCredentials(client_id=user, client_secret=password))"
   ]
  },
  {
   "cell_type": "code",
   "execution_count": 3,
   "metadata": {},
   "outputs": [],
   "source": [
    "# que pasa si queremos que el usiario elija el artista\n",
    "\n",
    "def audio():\n",
    "    artist=input(\"Please select and artist to recommend one of his songs based on the features of your previous song: \")\n",
    "    results=sp.search(q=f'artist: {artist}', limit=50)\n",
    "\n",
    "    track_ids = [track['id'] for track in results['tracks']['items']]\n",
    "    song_names = [track['name'] for track in results['tracks']['items']]\n",
    " \n",
    "    audio_features = sp.audio_features(track_ids)\n",
    "\n",
    "    df = pd.DataFrame(audio_features)\n",
    "    df['artist'] = artist\n",
    "    df['song_name'] = song_names\n",
    "    return df"
   ]
  },
  {
   "cell_type": "code",
   "execution_count": 5,
   "metadata": {},
   "outputs": [],
   "source": [
    "def spoti(song_name):\n",
    "    #song_name = input('Choose a song: ')\n",
    "    df=audio()\n",
    " \n",
    "\n",
    "    x = df[['danceability', 'energy', 'key', 'loudness', 'mode', 'speechiness', 'acousticness', 'instrumentalness', 'liveness', 'valence', 'tempo']]\n",
    "\n",
    "    # standarize the data\n",
    "    scaler = StandardScaler()\n",
    "    x_prep = scaler.fit_transform(x)\n",
    "    kmeans = KMeans(n_clusters=9, random_state=42)\n",
    "    kmeans.fit(x_prep)\n",
    "    clusters = kmeans.predict(x_prep)\n",
    "\n",
    "    #create new dataframe with title, artist and cluster assigned\n",
    "    scaled_df = pd.DataFrame(x_prep, columns=x.columns)\n",
    "    scaled_df['song_name'] = df[\"song_name\"]\n",
    "    scaled_df['artist'] = df['artist']\n",
    "    scaled_df['cluster'] = clusters\n",
    "\n",
    "        #SONG RECOMMENDATON\n",
    "    \n",
    "    # get song id\n",
    "    \n",
    "    results = sp.search(q=f'track:{song_name}', limit=1)\n",
    "    track_id = results['tracks']['items'][0]['id']\n",
    "\n",
    "    right=input(f'Is {results[\"tracks\"][\"items\"][0][\"name\"]} by {results[\"tracks\"][\"items\"][0][\"artists\"][0][\"name\"]} your song?')\n",
    "    if right.lower() not in [\"yes\", \"y\", \"si\", \"affirmative\"]:\n",
    "        print(\"We could not find your song\")\n",
    "        return \n",
    "    # get song features with the obtained id\n",
    "    audio_features = sp.audio_features(track_id)\n",
    "    \n",
    "    # create dataframe\n",
    "    df_ = pd.DataFrame(audio_features)\n",
    "    new_features = df_[x.columns]\n",
    "    \n",
    "    # scale features\n",
    "    scaled_x = scaler.transform(new_features)\n",
    "    \n",
    "    # predict cluster\n",
    "    cluster = kmeans.predict(scaled_x)\n",
    "    \n",
    "    # filter dataset to predicted cluster\n",
    "    filtered_df = scaled_df[scaled_df['cluster'] == cluster[0]][x.columns]\n",
    "    \n",
    "    # get closest song from filtered dataset\n",
    "    closest, _ = pairwise_distances_argmin_min(scaled_x, filtered_df)\n",
    "    \n",
    "    # return it in a readable way\n",
    "    print('\\n [RECOMMENDED SONG]')\n",
    "    print(' - '.join([scaled_df.loc[closest]['song_name'].values[0], scaled_df.loc[closest]['artist'].values[0]]))\n",
    "    return"
   ]
  },
  {
   "cell_type": "code",
   "execution_count": 6,
   "metadata": {},
   "outputs": [
    {
     "name": "stdout",
     "output_type": "stream",
     "text": [
      "\n",
      " [RECOMMENDED SONG]\n",
      "Radio Ga Ga - Remastered 2011 - queen\n"
     ]
    }
   ],
   "source": [
    "spoti(\"hello adele\")"
   ]
  },
  {
   "cell_type": "code",
   "execution_count": null,
   "metadata": {},
   "outputs": [],
   "source": []
  }
 ],
 "metadata": {
  "kernelspec": {
   "display_name": "Python 3",
   "language": "python",
   "name": "python3"
  },
  "language_info": {
   "codemirror_mode": {
    "name": "ipython",
    "version": 3
   },
   "file_extension": ".py",
   "mimetype": "text/x-python",
   "name": "python",
   "nbconvert_exporter": "python",
   "pygments_lexer": "ipython3",
   "version": "3.10.11"
  },
  "orig_nbformat": 4
 },
 "nbformat": 4,
 "nbformat_minor": 2
}
